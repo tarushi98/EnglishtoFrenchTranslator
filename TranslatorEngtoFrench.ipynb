{
  "nbformat": 4,
  "nbformat_minor": 0,
  "metadata": {
    "colab": {
      "name": "TranslatorEngtoFrench.ipynb",
      "provenance": [],
      "collapsed_sections": []
    },
    "kernelspec": {
      "name": "python3",
      "display_name": "Python 3"
    },
    "accelerator": "GPU"
  },
  "cells": [
    {
      "cell_type": "markdown",
      "metadata": {
        "id": "ZMQOvp4fTz-4",
        "colab_type": "text"
      },
      "source": [
        "**<h1>English To French Machine Translation**\n",
        "\n",
        "Dataset link:https://www.kaggle.com/anubhav3377/machinetranslationengfra/data\n",
        "\n",
        "In this project we will aim to transform english sentences to french sentences\n",
        "using the concept of Machine Translation.\n",
        "The given dataset contains the english sentences and their french counterparts. \n",
        "The data will be cleaned,processed and then tokenized, such that it is ready for machine consumption, by which I mean that it is ready to be feeded into the neural network. The neural network will output the converted sentences.\n",
        "\n"
      ]
    },
    {
      "cell_type": "markdown",
      "metadata": {
        "id": "1ZrfHvrOWANQ",
        "colab_type": "text"
      },
      "source": [
        "**<h2> Importing Libraries**\n",
        "\n",
        "1) String: Contains innumerous constants and classes which can be implemented on strings.\n",
        "\n",
        "2) Regular expression:A regular expression is a special sequence of characters that helps you match or find other strings or sets of strings, using a specialized syntax held in a pattern. Regular expressions are widely used in UNIX world.The Python module re provides full support for Perl-like regular expressions in Python.\n",
        "\n",
        "3) Numpy:Fundamental library for scientific computing in python.\n",
        "\n",
        "4) Pandas:It is an open source software tool used for data analysis and manipulation in python.\n",
        "\n",
        "5) Keras:Keras is an API which is helpful in implementing deep neural networks.\n",
        "\n",
        "6) Matplotlib:It is the plotting library for python and is usually used for data visualization"
      ]
    },
    {
      "cell_type": "code",
      "metadata": {
        "id": "MbKHYyUIHpWH",
        "colab_type": "code",
        "outputId": "912c07a9-b436-449e-ef0d-7a71c5b96afd",
        "colab": {
          "base_uri": "https://localhost:8080/",
          "height": 34
        }
      },
      "source": [
        "import string\n",
        "import re\n",
        "import numpy as np\n",
        "from numpy import array, argmax, random, take\n",
        "import pandas as pd\n",
        "from keras.models import Sequential\n",
        "from keras.layers import Dense, LSTM, Embedding, RepeatVector\n",
        "from keras.preprocessing.text import Tokenizer\n",
        "from keras.callbacks import ModelCheckpoint\n",
        "from keras.preprocessing.sequence import pad_sequences\n",
        "from keras.models import load_model\n",
        "from keras import optimizers\n",
        "import matplotlib.pyplot as plt\n",
        "%matplotlib inline\n",
        "pd.set_option('display.max_colwidth', 200)"
      ],
      "execution_count": 0,
      "outputs": [
        {
          "output_type": "stream",
          "text": [
            "Using TensorFlow backend.\n"
          ],
          "name": "stderr"
        }
      ]
    },
    {
      "cell_type": "markdown",
      "metadata": {
        "id": "OqM4Tc46Xpq2",
        "colab_type": "text"
      },
      "source": [
        "**<h2> Importing dataset**"
      ]
    },
    {
      "cell_type": "code",
      "metadata": {
        "id": "vDAUkO-IJr2Y",
        "colab_type": "code",
        "outputId": "a92bed4c-a223-4e6e-acc0-4f182106c771",
        "colab": {
          "resources": {
            "http://localhost:8080/nbextensions/google.colab/files.js": {
              "data": "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",
              "ok": true,
              "headers": [
                [
                  "content-type",
                  "application/javascript"
                ]
              ],
              "status": 200,
              "status_text": ""
            }
          },
          "base_uri": "https://localhost:8080/",
          "height": 74
        }
      },
      "source": [
        "from google.colab import files\n",
        "uploaded = files.upload()\n",
        "name=str(list(uploaded.keys())[0])"
      ],
      "execution_count": 0,
      "outputs": [
        {
          "output_type": "display_data",
          "data": {
            "text/html": [
              "\n",
              "     <input type=\"file\" id=\"files-4c5e5892-91c5-44ea-a03b-46cebc6befb8\" name=\"files[]\" multiple disabled />\n",
              "     <output id=\"result-4c5e5892-91c5-44ea-a03b-46cebc6befb8\">\n",
              "      Upload widget is only available when the cell has been executed in the\n",
              "      current browser session. Please rerun this cell to enable.\n",
              "      </output>\n",
              "      <script src=\"/nbextensions/google.colab/files.js\"></script> "
            ],
            "text/plain": [
              "<IPython.core.display.HTML object>"
            ]
          },
          "metadata": {
            "tags": []
          }
        },
        {
          "output_type": "stream",
          "text": [
            "Saving eng-fra.txt to eng-fra.txt\n"
          ],
          "name": "stdout"
        }
      ]
    },
    {
      "cell_type": "code",
      "metadata": {
        "id": "H4m8Db-FRzav",
        "colab_type": "code",
        "outputId": "17dd16ca-a212-4c6a-f7ba-e0d2784a6def",
        "colab": {
          "base_uri": "https://localhost:8080/",
          "height": 34
        }
      },
      "source": [
        "print(name)\n"
      ],
      "execution_count": 0,
      "outputs": [
        {
          "output_type": "stream",
          "text": [
            "eng-fra.txt\n"
          ],
          "name": "stdout"
        }
      ]
    },
    {
      "cell_type": "code",
      "metadata": {
        "id": "E-cJ5ldzQN9w",
        "colab_type": "code",
        "outputId": "b9dd0f8c-201c-41fa-e4f8-3925366b883b",
        "colab": {
          "base_uri": "https://localhost:8080/",
          "height": 187
        }
      },
      "source": [
        "eng_fra=uploaded[name].decode(\"utf-8\").split('\\n')\n",
        "eng_fra_cpy=eng_fra\n",
        "eng_fra[:10]"
      ],
      "execution_count": 0,
      "outputs": [
        {
          "output_type": "execute_result",
          "data": {
            "text/plain": [
              "['Go.\\tVa !',\n",
              " 'Run!\\tCours\\u202f!',\n",
              " 'Run!\\tCourez\\u202f!',\n",
              " 'Wow!\\tÇa alors\\u202f!',\n",
              " 'Fire!\\tAu feu !',\n",
              " \"Help!\\tÀ l'aide\\u202f!\",\n",
              " 'Jump.\\tSaute.',\n",
              " 'Stop!\\tÇa suffit\\u202f!',\n",
              " 'Stop!\\tStop\\u202f!',\n",
              " 'Stop!\\tArrête-toi !']"
            ]
          },
          "metadata": {
            "tags": []
          },
          "execution_count": 4
        }
      ]
    },
    {
      "cell_type": "markdown",
      "metadata": {
        "id": "1QQuBZwbXvfF",
        "colab_type": "text"
      },
      "source": [
        "**<h2>Data Cleaning**\n",
        "\n",
        "We will try to separate the english and french sentences from each other."
      ]
    },
    {
      "cell_type": "code",
      "metadata": {
        "id": "ww-99iwhXHOq",
        "colab_type": "code",
        "outputId": "cc73bf2e-ff89-43ff-c49c-b983ad53a171",
        "colab": {
          "base_uri": "https://localhost:8080/",
          "height": 1000
        }
      },
      "source": [
        "eng_fra=eng_fra[:25000]\n",
        "eng_fra=[i.split('\\t') for i in eng_fra]\n",
        "eng_fra"
      ],
      "execution_count": 0,
      "outputs": [
        {
          "output_type": "execute_result",
          "data": {
            "text/plain": [
              "[['Go.', 'Va !'],\n",
              " ['Run!', 'Cours\\u202f!'],\n",
              " ['Run!', 'Courez\\u202f!'],\n",
              " ['Wow!', 'Ça alors\\u202f!'],\n",
              " ['Fire!', 'Au feu !'],\n",
              " ['Help!', \"À l'aide\\u202f!\"],\n",
              " ['Jump.', 'Saute.'],\n",
              " ['Stop!', 'Ça suffit\\u202f!'],\n",
              " ['Stop!', 'Stop\\u202f!'],\n",
              " ['Stop!', 'Arrête-toi !'],\n",
              " ['Wait!', 'Attends !'],\n",
              " ['Wait!', 'Attendez !'],\n",
              " ['I see.', 'Je comprends.'],\n",
              " ['I try.', \"J'essaye.\"],\n",
              " ['I won!', \"J'ai gagné !\"],\n",
              " ['I won!', \"Je l'ai emporté !\"],\n",
              " ['Oh no!', 'Oh non !'],\n",
              " ['Attack!', 'Attaque !'],\n",
              " ['Attack!', 'Attaquez !'],\n",
              " ['Cheers!', 'Santé !'],\n",
              " ['Cheers!', 'À votre santé !'],\n",
              " ['Cheers!', 'Merci !'],\n",
              " ['Get up.', 'Lève-toi.'],\n",
              " ['Got it!', \"J'ai pigé !\"],\n",
              " ['Got it!', 'Compris !'],\n",
              " ['Got it?', 'Pigé\\u202f?'],\n",
              " ['Got it?', 'Compris\\u202f?'],\n",
              " ['Got it?', \"T'as capté\\u202f?\"],\n",
              " ['Hop in.', 'Monte.'],\n",
              " ['Hop in.', 'Montez.'],\n",
              " ['Hug me.', 'Serre-moi dans tes bras !'],\n",
              " ['Hug me.', 'Serrez-moi dans vos bras !'],\n",
              " ['I fell.', 'Je suis tombée.'],\n",
              " ['I fell.', 'Je suis tombé.'],\n",
              " ['I know.', 'Je sais.'],\n",
              " ['I left.', 'Je suis parti.'],\n",
              " ['I left.', 'Je suis partie.'],\n",
              " ['I lost.', \"J'ai perdu.\"],\n",
              " [\"I'm 19.\", \"J'ai 19 ans.\"],\n",
              " [\"I'm OK.\", 'Je vais bien.'],\n",
              " [\"I'm OK.\", 'Ça va.'],\n",
              " ['Listen.', 'Écoutez !'],\n",
              " ['No way!', 'Impossible\\u202f!'],\n",
              " ['No way!', 'En aucun cas.'],\n",
              " ['No way!', \"C'est hors de question !\"],\n",
              " ['No way!', \"Il n'en est pas question !\"],\n",
              " ['No way!', \"C'est exclu !\"],\n",
              " ['No way!', 'En aucune manière !'],\n",
              " ['No way!', 'Hors de question !'],\n",
              " ['Really?', 'Vraiment\\u202f?'],\n",
              " ['Really?', 'Vrai ?'],\n",
              " ['Really?', 'Ah bon ?'],\n",
              " ['Thanks.', 'Merci !'],\n",
              " ['We try.', 'On essaye.'],\n",
              " ['We won.', 'Nous avons gagné.'],\n",
              " ['We won.', 'Nous gagnâmes.'],\n",
              " ['We won.', \"Nous l'avons emporté.\"],\n",
              " ['We won.', \"Nous l'emportâmes.\"],\n",
              " ['Ask Tom.', 'Demande à Tom.'],\n",
              " ['Awesome!', 'Fantastique\\u202f!'],\n",
              " ['Be calm.', 'Sois calme !'],\n",
              " ['Be calm.', 'Soyez calme !'],\n",
              " ['Be calm.', 'Soyez calmes !'],\n",
              " ['Be cool.', 'Sois détendu !'],\n",
              " ['Be fair.', 'Sois juste !'],\n",
              " ['Be fair.', 'Soyez juste !'],\n",
              " ['Be fair.', 'Soyez justes !'],\n",
              " ['Be fair.', 'Sois équitable !'],\n",
              " ['Be fair.', 'Soyez équitable !'],\n",
              " ['Be fair.', 'Soyez équitables !'],\n",
              " ['Be kind.', 'Sois gentil.'],\n",
              " ['Be nice.', 'Sois gentil !'],\n",
              " ['Be nice.', 'Sois gentille !'],\n",
              " ['Be nice.', 'Soyez gentil !'],\n",
              " ['Be nice.', 'Soyez gentille !'],\n",
              " ['Be nice.', 'Soyez gentils !'],\n",
              " ['Be nice.', 'Soyez gentilles !'],\n",
              " ['Beat it.', 'Dégage\\u202f!'],\n",
              " ['Call me.', 'Appelle-moi !'],\n",
              " ['Call me.', 'Appellez-moi !'],\n",
              " ['Call us.', 'Appelle-nous !'],\n",
              " ['Call us.', 'Appelez-nous !'],\n",
              " ['Come in.', 'Entrez\\u202f!'],\n",
              " ['Come in.', 'Entre.'],\n",
              " ['Come in.', 'Entre !'],\n",
              " ['Come in.', 'Entrez !'],\n",
              " ['Come on!', 'Allez\\u202f!'],\n",
              " ['Come on.', 'Allez !'],\n",
              " ['Come on.', 'Viens !'],\n",
              " ['Come on.', 'Venez !'],\n",
              " ['Drop it!', 'Laisse tomber !'],\n",
              " ['Drop it!', 'Laissez tomber !'],\n",
              " ['Drop it!', 'Laisse-le tomber !'],\n",
              " ['Drop it!', 'Laissez-le tomber !'],\n",
              " ['Get out!', 'Sortez\\u202f!'],\n",
              " ['Get out!', 'Sors !'],\n",
              " ['Get out!', 'Sortez !'],\n",
              " ['Get out.', 'Sors.'],\n",
              " ['Get out.', 'Casse-toi.'],\n",
              " ['Go away!', 'Dégage\\u202f!'],\n",
              " ['Go away!', 'Pars !'],\n",
              " ['Go away.', 'Va te faire foutre !'],\n",
              " ['Go away.', 'Pars !'],\n",
              " ['Go away.', 'Dégage !'],\n",
              " ['Go away.', 'Fous le camp !'],\n",
              " ['Go away.', \"Pars d'ici.\"],\n",
              " ['Go away.', \"Va t'en !\"],\n",
              " ['Go away.', 'Disparais !'],\n",
              " ['Go away.', 'Allez-vous en !'],\n",
              " ['Go slow.', 'Va doucement !'],\n",
              " ['Go slow.', 'Allez doucement !'],\n",
              " ['Goodbye!', 'À la revoyure.'],\n",
              " ['Hang on!', 'Attends un peu !'],\n",
              " ['Hang on!', 'Attendez un peu !'],\n",
              " ['Hang on.', 'Tiens bon !'],\n",
              " ['Hang on.', 'Tenez bon !'],\n",
              " ['He quit.', 'Il laissa tomber.'],\n",
              " ['He quit.', 'Il a laissé tomber.'],\n",
              " ['He runs.', 'Il court.'],\n",
              " ['Help me!', 'Aide-moi !'],\n",
              " ['Help me.', 'Aide-moi.'],\n",
              " ['Help me.', 'Aidez-moi.'],\n",
              " ['Help us.', 'Aidez-nous !'],\n",
              " ['Help us.', 'Aide-nous !'],\n",
              " ['Hold it!', 'Ne bouge plus !'],\n",
              " ['Hold on.', 'Ne quittez pas.'],\n",
              " ['I agree.', 'Je suis du même avis.'],\n",
              " ['I tried.', \"J'essayai.\"],\n",
              " ['I tried.', \"J'ai essayé.\"],\n",
              " ['I tried.', \"J'ai tenté.\"],\n",
              " [\"I'll go.\", \"J'irai.\"],\n",
              " [\"I'm fat.\", 'Je suis gras.'],\n",
              " [\"I'm fat.\", 'Je suis gros.'],\n",
              " [\"I'm fit.\", 'Je suis en forme.'],\n",
              " [\"I'm hit!\", 'Je suis touché !'],\n",
              " [\"I'm hit!\", 'Je suis touchée !'],\n",
              " [\"I'm ill.\", 'Je suis malade.'],\n",
              " [\"I'm sad.\", 'Je suis triste.'],\n",
              " [\"I'm shy.\", 'Je suis timide.'],\n",
              " [\"I'm wet.\", 'Je suis mouillé.'],\n",
              " [\"I'm wet.\", 'Je suis mouillée.'],\n",
              " [\"It's me!\", \"C'est bibi\\u202f!\"],\n",
              " ['Join us.', 'Joignez-vous.'],\n",
              " ['Join us.', 'Joignez-vous à nous.'],\n",
              " ['Keep it.', 'Garde-le !'],\n",
              " ['Keep it.', 'Gardez-le !'],\n",
              " ['Kiss me.', 'Embrasse-moi.'],\n",
              " ['Kiss me.', 'Embrassez-moi.'],\n",
              " ['Me, too.', 'Moi aussi.'],\n",
              " ['Open up.', 'Ouvre-moi\\u202f!'],\n",
              " ['Open up.', 'Ouvre.'],\n",
              " ['Perfect!', 'Parfait\\u202f!'],\n",
              " ['See you.', 'À plus.'],\n",
              " ['Show me.', 'Montre-moi !'],\n",
              " ['Show me.', 'Montrez-moi !'],\n",
              " ['Shut up!', 'Taisez-vous\\u202f!'],\n",
              " ['Shut up!', 'Ferme-la\\u202f!'],\n",
              " ['Shut up!', 'Tais-toi !'],\n",
              " ['Shut up!', 'Ferme-la !'],\n",
              " ['Shut up!', 'La ferme !'],\n",
              " ['So long.', 'À plus tard !'],\n",
              " ['Take it.', 'Prends-le !'],\n",
              " ['Take it.', 'Prenez-le !'],\n",
              " ['Tell me.', 'Dis-moi !'],\n",
              " ['Tell me.', 'Dites-moi !'],\n",
              " ['Tom won.', 'Tom a gagné.'],\n",
              " ['Wake up!', 'Réveille-toi\\u202f!'],\n",
              " ['Wake up!', 'Réveille-toi !'],\n",
              " ['Wake up!', 'Réveillez-vous !'],\n",
              " ['Wake up.', 'Réveille-toi !'],\n",
              " ['Wake up.', 'Réveillez-vous !'],\n",
              " ['Wash up.', 'Lave-toi !'],\n",
              " ['Wash up.', 'Lavez-vous !'],\n",
              " ['We know.', 'Nous savons.'],\n",
              " ['We lost.', 'Nous perdîmes.'],\n",
              " ['We lost.', 'Nous avons perdu.'],\n",
              " ['We lost.', 'Nous fûmes battus.'],\n",
              " ['We lost.', 'Nous fûmes battues.'],\n",
              " ['We lost.', 'Nous fûmes défaits.'],\n",
              " ['We lost.', 'Nous fûmes défaites.'],\n",
              " ['We lost.', 'Nous avons été défaits.'],\n",
              " ['We lost.', 'Nous avons été défaites.'],\n",
              " ['We lost.', 'Nous avons été battus.'],\n",
              " ['We lost.', 'Nous avons été battues.'],\n",
              " ['Who won?', 'Qui a gagné ?'],\n",
              " ['Who won?', \"Qui l'a emporté ?\"],\n",
              " ['You run.', 'Tu cours.'],\n",
              " ['Am I fat?', 'Suis-je gros ?'],\n",
              " ['Am I fat?', 'Suis-je grosse ?'],\n",
              " ['Back off.', 'Recule\\u2009!'],\n",
              " ['Back off.', 'Reculez.'],\n",
              " ['Back off.', 'Retire-toi\\u2009!'],\n",
              " ['Back off.', 'Retirez-vous.'],\n",
              " ['Be a man.', 'Sois un homme !'],\n",
              " ['Be a man.', 'Soyez un homme !'],\n",
              " ['Be still.', 'Sois calme !'],\n",
              " ['Be still.', 'Soyez calme !'],\n",
              " ['Be still.', 'Soyez calmes !'],\n",
              " ['Beats me.', 'Aucune idée.'],\n",
              " ['Beats me.', \"J'en sais foutre rien.\"],\n",
              " ['Call Tom.', 'Appelle Tom.'],\n",
              " ['Call Tom.', 'Appelez Tom.'],\n",
              " ['Cheer up!', 'Courage\\u202f!'],\n",
              " ['Cool off!', 'Détends-toi\\u202f!'],\n",
              " ['Cuff him.', 'Menottez-le.'],\n",
              " ['Drive on.', 'Avance !'],\n",
              " ['Drive on.', 'Avancez !'],\n",
              " ['Drive on.', 'Continue à rouler !'],\n",
              " ['Drive on.', 'Continuez à rouler !'],\n",
              " ['Get down!', 'Lâche-toi !'],\n",
              " ['Get down.', 'Descends !'],\n",
              " ['Get down.', 'Descendez !'],\n",
              " ['Get down.', 'Lâche-toi !'],\n",
              " ['Get down.', 'Lâchez-vous !'],\n",
              " ['Get lost!', \"Va voir ailleurs si j'y suis\\u202f!\"],\n",
              " ['Get lost!', 'Dégage\\u202f!'],\n",
              " ['Get lost!', 'Va au diable !'],\n",
              " ['Get real!', 'Sois réaliste !'],\n",
              " ['Go ahead.', 'Vas-y.'],\n",
              " ['Go ahead.', 'Poursuis !'],\n",
              " ['Go ahead.', 'Passe devant !'],\n",
              " ['Go ahead.', 'Vas-y !'],\n",
              " ['Good job!', 'Bien joué\\u202f!'],\n",
              " ['Good job!', 'Bon boulot\\u202f!'],\n",
              " ['Good job!', 'Beau travail\\u202f!'],\n",
              " ['Grab him.', 'Attrape-le.'],\n",
              " ['Grab him.', 'Attrapez-le.'],\n",
              " ['Have fun.', 'Amuse-toi bien !'],\n",
              " ['Have fun.', 'Amusez-vous bien !'],\n",
              " ['He tries.', 'Il essaye.'],\n",
              " [\"He's wet.\", 'Il est mouillé.'],\n",
              " ['Hi, guys.', 'Salut, les mecs !'],\n",
              " ['How cute!', \"Comme c'est mignon\\u202f!\"],\n",
              " ['How deep?', 'Quelle profondeur\\u202f?'],\n",
              " ['How nice!', \"Comme c'est chouette !\"],\n",
              " ['How nice!', \"Comme c'est gentil !\"],\n",
              " ['How nice!', \"C'est du joli !\"],\n",
              " ['How nice!', \"Comme c'est agréable !\"],\n",
              " ['Humor me.', 'Fais-moi rire.'],\n",
              " ['Hurry up.', 'Dépêche-toi.'],\n",
              " ['Hurry up.', 'Grouille\\u202f!'],\n",
              " ['Hurry up.', 'Pressez-vous !'],\n",
              " ['Hurry up.', 'Fiça !'],\n",
              " ['I am fat.', 'Je suis gras.'],\n",
              " ['I did OK.', \"Je m'en suis bien sorti.\"],\n",
              " ['I did OK.', \"Je m'en suis bien sortie.\"],\n",
              " ['I did it.', \"Je l'ai fait.\"],\n",
              " ['I did it.', \"C'est moi qui l'ai fait.\"],\n",
              " ['I forgot.', \"J'ai oublié.\"],\n",
              " ['I get it.', \"J'ai compris.\"],\n",
              " ['I got it.', \"J'ai compris.\"],\n",
              " ['I got it.', \"J'ai capté.\"],\n",
              " ['I phoned.', 'Je téléphonai.'],\n",
              " ['I phoned.', \"J'ai téléphoné.\"],\n",
              " ['I refuse.', 'Je refuse.'],\n",
              " ['I refuse.', 'Je le refuse.'],\n",
              " ['I saw it.', \"Je l'ai vu.\"],\n",
              " ['I saw it.', 'Je l’ai vu.'],\n",
              " ['I stayed.', 'Je suis resté.'],\n",
              " ['I stayed.', 'Je suis restée.'],\n",
              " ['I use it.', \"Je l'utilise.\"],\n",
              " ['I use it.', \"J'en fais usage.\"],\n",
              " ['I use it.', \"Je m'en sers.\"],\n",
              " [\"I'll pay.\", 'Je paierai.'],\n",
              " [\"I'll try.\", \"J'essaierai.\"],\n",
              " [\"I'm back.\", 'Je suis revenu.'],\n",
              " [\"I'm back.\", 'Me revoilà.'],\n",
              " [\"I'm bald.\", 'Je suis chauve.'],\n",
              " [\"I'm busy.\", 'Je suis occupé.'],\n",
              " [\"I'm busy.\", 'Je suis occupée.'],\n",
              " [\"I'm calm.\", 'Je suis calme.'],\n",
              " [\"I'm cold.\", \"J'ai froid.\"],\n",
              " [\"I'm done.\", \"J'en ai fini.\"],\n",
              " [\"I'm fine.\", 'Tout va bien.'],\n",
              " [\"I'm fine.\", 'Je vais bien.'],\n",
              " [\"I'm fine.\", 'Ça va.'],\n",
              " [\"I'm free!\", 'Je suis libre !'],\n",
              " [\"I'm free.\", 'Je suis libre.'],\n",
              " [\"I'm free.\", 'Je suis disponible.'],\n",
              " [\"I'm full.\", 'Je suis repu\\u202f!'],\n",
              " [\"I'm full.\", 'Je suis rassasié\\u202f!'],\n",
              " [\"I'm glad.\", 'Je suis content.'],\n",
              " [\"I'm home.\", 'Je suis chez moi.'],\n",
              " [\"I'm late.\", 'Je suis en retard.'],\n",
              " [\"I'm lazy.\", 'Je suis paresseux.'],\n",
              " [\"I'm lazy.\", 'Je suis fainéant.'],\n",
              " [\"I'm lazy.\", 'Je suis paresseuse.'],\n",
              " [\"I'm lazy.\", 'Je suis fainéante.'],\n",
              " [\"I'm okay.\", 'Je vais bien.'],\n",
              " [\"I'm okay.\", 'Je me porte bien.'],\n",
              " [\"I'm safe.\", 'Je suis en sécurité.'],\n",
              " [\"I'm sick.\", 'Je suis malade.'],\n",
              " [\"I'm sure.\", \"J'en suis certain.\"],\n",
              " [\"I'm sure.\", 'Je suis certain.'],\n",
              " [\"I'm sure.\", \"J'en suis sûr.\"],\n",
              " [\"I'm sure.\", \"J'en suis sûre.\"],\n",
              " [\"I'm tall.\", 'Je suis grande.'],\n",
              " [\"I'm thin.\", 'Je suis mince.'],\n",
              " [\"I'm tidy.\", 'Je suis ordonné.'],\n",
              " [\"I'm tidy.\", 'Je suis ordonnée.'],\n",
              " [\"I'm ugly.\", 'Je suis laid.'],\n",
              " [\"I'm ugly.\", 'Je suis laide.'],\n",
              " [\"I'm weak.\", 'Je suis faible.'],\n",
              " [\"I'm well.\", 'Je vais bien.'],\n",
              " [\"I'm well.\", 'Je me porte bien.'],\n",
              " [\"I've won.\", \"J'ai gagné.\"],\n",
              " [\"I've won.\", \"Je l'ai emporté.\"],\n",
              " ['It works.', 'Elle marche.'],\n",
              " ['It works.', 'Ça fonctionne.'],\n",
              " [\"It's his.\", \"C'est le sien.\"],\n",
              " [\"It's his.\", \"C'est la sienne.\"],\n",
              " [\"It's new.\", \"C'est nouveau.\"],\n",
              " [\"It's new.\", \"C'est neuf.\"],\n",
              " [\"It's odd.\", \"C'est bizarre.\"],\n",
              " [\"It's sad.\", 'C’est triste.'],\n",
              " ['Keep out!', \"Défense d'entrer.\"],\n",
              " ['Keep out.', \"N'entrez pas.\"],\n",
              " ['Leave it.', 'Laisse tomber !'],\n",
              " ['Leave it.', 'Laissez tomber !'],\n",
              " ['Leave me.', 'Laissez-moi !'],\n",
              " ['Leave us.', 'Laisse-nous !'],\n",
              " ['Leave us.', 'Laissez-nous !'],\n",
              " [\"Let's go!\", 'Allons-y !'],\n",
              " [\"Let's go!\", 'Allons !'],\n",
              " [\"Let's go.\", 'Allons-y !'],\n",
              " ['Look out!', 'Attention !'],\n",
              " ['Marry me.', 'Épouse-moi !'],\n",
              " ['Marry me.', 'Épousez-moi !'],\n",
              " ['May I go?', 'Puis-je partir ?'],\n",
              " ['May I go?', 'Puis-je y aller ?'],\n",
              " ['May I go?', \"Puis-je m'y rendre ?\"],\n",
              " ['She came.', 'Elle est venue.'],\n",
              " ['She died.', 'Elle est morte.'],\n",
              " ['She runs.', 'Elle court.'],\n",
              " ['Sit down!', 'Assieds-toi !'],\n",
              " ['Sit down!', 'Asseyez-vous !'],\n",
              " ['Sit here.', 'Assieds-toi ici.'],\n",
              " ['Sit here.', 'Asseyez-vous ici.'],\n",
              " ['Speak up!', 'Parle plus fort\\u202f!'],\n",
              " ['Speak up!', 'Parlez plus fort\\u202f!'],\n",
              " ['Stop Tom.', 'Arrête Tom.'],\n",
              " ['Stop Tom.', 'Stoppez Tom.'],\n",
              " ['Terrific!', 'Génial\\u202f!'],\n",
              " ['Terrific!', 'Excellent\\u202f!'],\n",
              " ['Terrific!', 'Formidable !'],\n",
              " ['They won.', 'Ils gagnèrent.'],\n",
              " ['They won.', 'Elles gagnèrent.'],\n",
              " ['They won.', 'Ils ont gagné.'],\n",
              " ['They won.', 'Elles ont gagné.'],\n",
              " ['Tom came.', 'Tom est venu.'],\n",
              " ['Tom died.', 'Tom est mort.'],\n",
              " ['Tom left.', 'Tom est parti.'],\n",
              " ['Tom left.', 'Tom partit.'],\n",
              " ['Tom lost.', 'Tom a perdu.'],\n",
              " ['Too late.', 'Trop tard.'],\n",
              " ['Trust me.', 'Faites-moi confiance.'],\n",
              " ['Trust me.', 'Fais-moi confiance.'],\n",
              " ['Try hard.', 'Fais un effort.'],\n",
              " ['Try some.', 'Essaies-en !'],\n",
              " ['Try some.', 'Essayez-en !'],\n",
              " ['Try this.', 'Essaie ceci !'],\n",
              " ['Try this.', 'Essayez ceci !'],\n",
              " ['Use this.', 'Utilise ceci.'],\n",
              " ['Use this.', 'Utilisez ceci.'],\n",
              " ['Use this.', 'Emploie ceci !'],\n",
              " ['Use this.', 'Employez ceci !'],\n",
              " ['Warn Tom.', 'Avertis Tom.'],\n",
              " ['Warn Tom.', 'Préviens Tom.'],\n",
              " ['Watch me.', 'Regarde-moi !'],\n",
              " ['Watch me.', 'Regardez-moi !'],\n",
              " ['Watch us.', 'Regardez-nous !'],\n",
              " ['Watch us.', 'Regarde-nous !'],\n",
              " ['We agree.', \"Nous sommes d'accord.\"],\n",
              " [\"We'll go.\", 'Nous irons.'],\n",
              " ['What for?', 'Pour quoi faire\\u202f?'],\n",
              " ['What for?', 'À quoi bon ?'],\n",
              " ['What fun!', \"Qu'est-ce qu'on s'est marrés !\"],\n",
              " ['What fun!', \"Qu'est-ce qu'on s'est marrées !\"],\n",
              " ['Who died?', 'Qui est mort ?'],\n",
              " [\"Who's he?\", 'Qui est-il\\u202f?'],\n",
              " ['Write me.', 'Écris-moi !'],\n",
              " ['Write me.', 'Écrivez-moi !'],\n",
              " ['After you.', 'Après vous.'],\n",
              " ['Aim. Fire!', 'En joue ! Feu !'],\n",
              " ['Am I late?', 'Suis-je en retard ?'],\n",
              " ['Answer me.', 'Répondez-moi.'],\n",
              " ['Be seated.', 'Assieds-toi !'],\n",
              " ['Be seated.', 'Asseyez-vous !'],\n",
              " ['Birds fly.', 'Les oiseaux volent.'],\n",
              " ['Bless you.', 'À tes souhaits\\u202f!'],\n",
              " ['Call home!', 'Appelle à la maison !'],\n",
              " ['Calm down!', 'Calmez-vous !'],\n",
              " ['Calm down.', 'Calme-toi.'],\n",
              " ['Can we go?', 'Pouvons-nous partir ?'],\n",
              " ['Can we go?', 'Pouvons-nous nous en aller ?'],\n",
              " ['Can we go?', 'Pouvons-nous y aller ?'],\n",
              " ['Catch him.', 'Rattrape-le.'],\n",
              " ['Come back.', 'Reviens !'],\n",
              " ['Come back.', 'Revenez !'],\n",
              " ['Come here.', 'Viens ici.'],\n",
              " ['Come here.', 'Venez là.'],\n",
              " ['Come over!', 'Viens\\u202f!'],\n",
              " ['Come over!', 'Venez\\u202f!'],\n",
              " ['Come over.', 'Venez ici !'],\n",
              " ['Come over.', 'Viens chez nous !'],\n",
              " ['Come over.', 'Venez chez nous !'],\n",
              " ['Come over.', 'Viens chez moi !'],\n",
              " ['Come over.', 'Venez chez moi !'],\n",
              " ['Come soon.', 'Viens bientôt !'],\n",
              " ['Come soon.', 'Venez bientôt !'],\n",
              " ['Cool down.', 'Calmez-vous !'],\n",
              " ['Did I win?', 'Ai-je gagné ?'],\n",
              " ['Did I win?', \"L'ai-je emporté ?\"],\n",
              " ['Did I win?', 'Est-ce moi qui ai gagné ?'],\n",
              " ['Dogs bark.', 'Des chiens aboient.'],\n",
              " ['Dogs bark.', 'Les chiens aboient.'],\n",
              " [\"Don't ask.\", 'Ne demande pas !'],\n",
              " [\"Don't cry.\", 'Ne pleure pas !'],\n",
              " [\"Don't die.\", 'Ne meurs pas !'],\n",
              " [\"Don't die.\", 'Ne mourez pas !'],\n",
              " [\"Don't lie.\", 'Ne mens pas.'],\n",
              " [\"Don't run.\", 'Ne courez pas.'],\n",
              " [\"Don't run.\", 'Ne cours pas.'],\n",
              " ['Excuse me.', 'Excuse-moi.'],\n",
              " ['Fantastic!', 'Fantastique\\u202f!'],\n",
              " ['Feel this.', 'Sens ça !'],\n",
              " ['Feel this.', 'Sentez ça !'],\n",
              " ['Feel this.', 'Touche ça !'],\n",
              " ['Feel this.', 'Touchez ça !'],\n",
              " ['Follow me.', 'Suis-moi.'],\n",
              " ['Follow us.', 'Suis-nous !'],\n",
              " ['Follow us.', 'Suivez-nous !'],\n",
              " ['Forget it!', 'Oublie !'],\n",
              " ['Forget it!', 'Oublie-le !'],\n",
              " ['Forget it!', 'Oubliez !'],\n",
              " ['Forget it!', 'Oubliez-le !'],\n",
              " ['Forget it.', 'Laisse tomber.'],\n",
              " ['Forget it.', 'Oublie.'],\n",
              " ['Get a job.', 'Trouve un emploi !'],\n",
              " ['Get a job.', 'Trouve un boulot !'],\n",
              " ['Get a job.', 'Trouvez un emploi !'],\n",
              " ['Get a job.', 'Trouvez un boulot !'],\n",
              " ['Get ready.', 'Prépare-toi.'],\n",
              " ['Get ready.', 'Préparez-vous.'],\n",
              " ['Go get it.', 'Va le chercher !'],\n",
              " ['Go get it.', 'Allez le chercher !'],\n",
              " ['Go inside.', 'Entrez\\u202f!'],\n",
              " ['Go to bed.', 'Va au lit !'],\n",
              " ['Go to bed.', 'Allez au lit !'],\n",
              " ['Good luck.', 'Bonne chance\\u202f!'],\n",
              " ['Good luck.', 'Bonne chance.'],\n",
              " ['Grab that.', 'Attrape ça !'],\n",
              " ['Grab that.', 'Attrapez ça !'],\n",
              " ['Grab that.', 'Saisis-toi de ça !'],\n",
              " ['Grab that.', 'Saisissez-vous de ça !'],\n",
              " ['Grab this.', 'Attrape ça !'],\n",
              " ['Grab this.', 'Attrapez ça !'],\n",
              " ['Hands off.', 'Pas touche\\u202f!'],\n",
              " ['He is ill.', 'Il est malade.'],\n",
              " ['He is old.', 'Il est vieux.'],\n",
              " [\"He's a DJ.\", 'Il est DJ.'],\n",
              " [\"He's good.\", 'Il est bon.'],\n",
              " [\"He's lazy.\", 'Il est paresseux.'],\n",
              " [\"He's rich.\", 'Il est riche.'],\n",
              " ['Here I am.', 'Me voici.'],\n",
              " [\"Here's $5.\", 'Voilà cinq dollars.'],\n",
              " ['Hold fire.', 'Halte au feu !'],\n",
              " ['Hold fire.', 'Cessez le feu !'],\n",
              " ['Hold this.', 'Tiens ça !'],\n",
              " ['Hold this.', 'Tenez ça !'],\n",
              " ['Hold this.', 'Tenez ceci !'],\n",
              " ['Hold this.', 'Tiens ceci !'],\n",
              " ['How awful!', \"C'est affreux\\u202f!\"],\n",
              " [\"How's Tom?\", 'Comment Tom va-t-il ?'],\n",
              " [\"How's Tom?\", 'Comment va Tom ?'],\n",
              " ['I am busy.', 'Je suis occupé.'],\n",
              " ['I am calm.', 'Je suis calme.'],\n",
              " ['I am cold.', \"J'ai froid.\"],\n",
              " ['I am good.', 'Je suis bon.'],\n",
              " ['I am here.', 'Je suis ici.'],\n",
              " ['I am lazy.', 'Je suis paresseux.'],\n",
              " ['I am lazy.', 'Je suis fainéant.'],\n",
              " ['I am lazy.', 'Je suis paresseuse.'],\n",
              " ['I am lazy.', 'Je suis fainéante.'],\n",
              " ['I am okay.', 'Je vais bien.'],\n",
              " ['I am sick.', 'Je suis malade.'],\n",
              " ['I am sure.', 'Je suis sûr.'],\n",
              " ['I am sure.', 'Je suis certain.'],\n",
              " ['I am weak.', 'Je suis faible.'],\n",
              " ['I beg you.', 'Je vous en prie.'],\n",
              " ['I beg you.', 'Je vous en conjure.'],\n",
              " ['I beg you.', 'Je vous en supplie.'],\n",
              " ['I beg you.', 'Je te prie.'],\n",
              " ['I can run.', 'Je sais courir.'],\n",
              " ['I can ski.', 'Je sais skier.'],\n",
              " ['I cringed.', \"J'eus un mouvement de recul.\"],\n",
              " ['I cringed.', \"J'ai eu un mouvement de recul.\"],\n",
              " ['I cringed.', 'Je suis rentré en moi-même.'],\n",
              " ['I give up.', \"J'abandonne.\"],\n",
              " ['I got hot.', 'Je me suis mis à avoir chaud.'],\n",
              " ['I got hot.', 'Je me suis mise à avoir chaud.'],\n",
              " ['I had fun.', 'Je me suis amusé.'],\n",
              " ['I had fun.', 'Je me suis amusée.'],\n",
              " ['I had fun.', 'Je me suis marré.'],\n",
              " ['I had fun.', 'Je me suis marrée.'],\n",
              " ['I hate it.', 'Je déteste ça.'],\n",
              " ['I hope so.', \"J'espère bien.\"],\n",
              " ['I knew it.', 'Je le savais.'],\n",
              " ['I like it.', \"J'aime ça.\"],\n",
              " ['I lost it.', 'Je l’ai perdu.'],\n",
              " ['I love it!', \"J'adore ça !\"],\n",
              " ['I love it.', \"J'adore ça !\"],\n",
              " ['I mean it!', 'Je suis sérieux\\u202f!'],\n",
              " ['I mean it.', 'Je suis sérieux.'],\n",
              " ['I must go.', 'Je dois y aller.'],\n",
              " ['I must go.', \"Il faut que j'y aille.\"],\n",
              " ['I must go.', 'Il me faut y aller.'],\n",
              " ['I must go.', 'Il me faut partir.'],\n",
              " ['I must go.', \"Il me faut m'en aller.\"],\n",
              " ['I must go.', 'Je dois partir.'],\n",
              " ['I must go.', \"Je dois m'en aller.\"],\n",
              " ['I must go.', \"Il faut que je m'en aille.\"],\n",
              " ['I need it.', \"J'en ai besoin.\"],\n",
              " ['I need it.', 'Il me le faut.'],\n",
              " ['I noticed.', \"J'ai remarqué.\"],\n",
              " ['I promise.', 'Je le promets.'],\n",
              " ['I said no.', \"J'ai dit non.\"],\n",
              " ['I said so.', \"Je l'ai dit.\"],\n",
              " ['I saw him.', \"Je l'ai vu.\"],\n",
              " ['I saw him.', 'Je l’ai vu.'],\n",
              " ['I saw him.', 'Je le vis.'],\n",
              " ['I saw one.', \"J'en ai vu une.\"],\n",
              " ['I saw one.', \"J'en ai vu un.\"],\n",
              " ['I saw you.', 'Je vous vis.'],\n",
              " ['I saw you.', 'Je te vis.'],\n",
              " ['I saw you.', \"Je t'ai vue.\"],\n",
              " ['I saw you.', \"Je t'ai vu.\"],\n",
              " ['I saw you.', 'Je vous ai vues.'],\n",
              " ['I saw you.', 'Je vous ai vus.'],\n",
              " ['I saw you.', 'Je vous ai vue.'],\n",
              " ['I saw you.', 'Je vous ai vu.'],\n",
              " ['I see Tom.', 'Je vois Tom.'],\n",
              " ['I tripped.', \"J'ai trébuché.\"],\n",
              " ['I tripped.', \"J'ai plané.\"],\n",
              " ['I want it.', 'Je le veux.'],\n",
              " ['I was new.', \"J'étais nouveau.\"],\n",
              " ['I was new.', \"J'étais nouvelle.\"],\n",
              " ['I will go.', \"J'irai.\"],\n",
              " ['I woke up.', 'Je me suis réveillé.'],\n",
              " ['I woke up.', 'Je me suis éveillé.'],\n",
              " [\"I'd agree.\", \"Je serais d'accord.\"],\n",
              " [\"I'd leave.\", 'Je partirais.'],\n",
              " [\"I'll call.\", \"J'appellerai.\"],\n",
              " [\"I'll cook.\", 'Je cuisinerai.'],\n",
              " [\"I'll help.\", \"J'aiderai.\"],\n",
              " [\"I'll live.\", 'Je vivrai.'],\n",
              " [\"I'll obey.\", \"J'obéirai.\"],\n",
              " [\"I'll pack.\", 'Je ferai mon sac.'],\n",
              " [\"I'll pack.\", 'Je ferai ma valise.'],\n",
              " [\"I'll pack.\", 'Je plierai mes gaules.'],\n",
              " [\"I'll pass.\", 'Je passerai.'],\n",
              " [\"I'll quit.\", \"J'abandonnerai.\"],\n",
              " [\"I'll sing.\", 'Je chanterai.'],\n",
              " [\"I'll swim.\", 'Je nagerai.'],\n",
              " [\"I'll wait.\", \"J'attendrai.\"],\n",
              " [\"I'll walk.\", 'Je marcherai.'],\n",
              " [\"I'll work.\", 'Je vais travailler.'],\n",
              " [\"I'll work.\", 'Je travaillerai.'],\n",
              " [\"I'm a cop.\", 'Je suis flic.'],\n",
              " [\"I'm a man.\", 'Je suis un homme.'],\n",
              " [\"I'm alone.\", 'Je suis seule.'],\n",
              " [\"I'm alone.\", 'Je suis seul.'],\n",
              " [\"I'm armed.\", 'Je suis armé.'],\n",
              " [\"I'm armed.\", 'Je suis armée.'],\n",
              " [\"I'm awake.\", 'Je suis réveillé.'],\n",
              " [\"I'm blind.\", 'Je suis aveugle.'],\n",
              " [\"I'm broke.\", 'Je suis fauché.'],\n",
              " [\"I'm crazy.\", 'Je suis fou.'],\n",
              " [\"I'm crazy.\", 'Je suis folle.'],\n",
              " [\"I'm cured.\", 'Je suis guéri.'],\n",
              " [\"I'm cured.\", 'Je suis guérie.'],\n",
              " [\"I'm drunk.\", 'Je suis saoul.'],\n",
              " [\"I'm drunk.\", 'Je suis soûl.'],\n",
              " [\"I'm drunk.\", 'Je suis ivre.'],\n",
              " [\"I'm dying.\", 'Je me meurs.'],\n",
              " [\"I'm early.\", 'Je suis en avance.'],\n",
              " [\"I'm first.\", 'Je suis en premier.'],\n",
              " [\"I'm fussy.\", 'Je suis difficile.'],\n",
              " [\"I'm fussy.\", 'Je suis tatillon.'],\n",
              " [\"I'm fussy.\", 'Je suis tatillonne.'],\n",
              " [\"I'm going.\", 'Je pars maintenant.'],\n",
              " [\"I'm going.\", 'Je me tire.'],\n",
              " [\"I'm going.\", 'J’y vais.'],\n",
              " [\"I'm going.\", 'Je pars.'],\n",
              " [\"I'm loyal.\", 'Je suis loyal.'],\n",
              " [\"I'm loyal.\", 'Je suis loyale.'],\n",
              " [\"I'm lucky.\", 'Je suis veinard.'],\n",
              " [\"I'm lucky.\", 'Je suis veinarde.'],\n",
              " [\"I'm lucky.\", \"J'ai du pot.\"],\n",
              " [\"I'm lucky.\", 'Je suis chanceux.'],\n",
              " [\"I'm lucky.\", 'Je suis chanceuse.'],\n",
              " [\"I'm lying.\", 'Je suis en train de mentir.'],\n",
              " [\"I'm quiet.\", 'Je suis tranquille.'],\n",
              " [\"I'm ready!\", 'Je suis prête !'],\n",
              " [\"I'm ready!\", 'Je suis prêt !'],\n",
              " [\"I'm ready.\", 'Je suis prêt.'],\n",
              " [\"I'm right.\", \"J'ai raison.\"],\n",
              " [\"I'm sober.\", 'Je suis sobre.'],\n",
              " [\"I'm sorry.\", 'Excuse-moi.'],\n",
              " [\"I'm sorry.\", 'Désolé.'],\n",
              " [\"I'm sorry.\", 'Désolé !'],\n",
              " [\"I'm sorry.\", 'Je suis désolé.'],\n",
              " [\"I'm sorry.\", 'Je suis désolée.'],\n",
              " [\"I'm stuck.\", 'Je suis coincée.'],\n",
              " [\"I'm timid.\", 'Je suis timide.'],\n",
              " [\"I'm tired.\", 'Je suis fatigué !'],\n",
              " [\"I'm tough.\", 'Je suis dur.'],\n",
              " [\"I'm tough.\", 'Je suis dure.'],\n",
              " [\"I'm tough.\", 'Je suis dur à cuire.'],\n",
              " [\"I'm tough.\", 'Je suis dure à cuire.'],\n",
              " [\"I'm yours.\", 'Je suis à toi.'],\n",
              " [\"I'm yours.\", 'Je suis à vous.'],\n",
              " [\"I've lost.\", \"J'ai perdu.\"],\n",
              " ['Is Tom OK?', 'Est-ce que Tom va bien ?'],\n",
              " ['Is Tom OK?', 'Tom va-t-il bien ?'],\n",
              " ['Is it bad?', \"C'est grave\\u202f?\"],\n",
              " ['Is it far?', 'Est-ce éloigné ?'],\n",
              " ['Is it far?', 'Est-ce loin ?'],\n",
              " ['Is it you?', 'Est-ce toi ?'],\n",
              " ['Is it you?', 'Est-ce vous ?'],\n",
              " ['Is it you?', \"Est-ce que c'est vous ?\"],\n",
              " ['It failed.', 'Ça a échoué.'],\n",
              " ['It snowed.', 'Il a neigé.'],\n",
              " ['It stinks.', 'Ça sent mauvais.'],\n",
              " ['It stinks.', 'Ça pue.'],\n",
              " ['It worked.', 'Ça a fonctionné.'],\n",
              " ['It worked.', 'Ça a marché.'],\n",
              " [\"It's 3:30.\", 'Il est trois heures et demie.'],\n",
              " [\"It's cold.\", 'Il fait froid.'],\n",
              " [\"It's dark.\", \"C'est sombre.\"],\n",
              " [\"It's dead.\", 'Elle est morte.'],\n",
              " [\"It's dead.\", \"C'est mort.\"],\n",
              " [\"It's dead.\", 'Il est mort.'],\n",
              " [\"It's done.\", \"C'est fait.\"],\n",
              " [\"It's food.\", \"C'est de la nourriture.\"],\n",
              " [\"It's free.\", \"C'est gratuit.\"],\n",
              " [\"It's hers.\", \"C'est le sien.\"],\n",
              " [\"It's hers.\", \"C'est la sienne.\"],\n",
              " [\"It's late.\", 'Il est tard.'],\n",
              " [\"It's lost.\", \"C'est perdu.\"],\n",
              " [\"It's open.\", \"C'est ouvert.\"],\n",
              " [\"It's sand.\", \"C'est du sable.\"],\n",
              " [\"It's true!\", \"C'est vrai\\u202f!\"],\n",
              " [\"It's work.\", \"C'est du boulot.\"],\n",
              " ['Let it be.', 'Ainsi soit-il.'],\n",
              " ['Let it be.', 'Laisse faire.'],\n",
              " ['Let me go!', 'Laisse-moi partir\\u202f!'],\n",
              " ['Let me go!', 'Laissez-moi partir\\u202f!'],\n",
              " ['Let me go!', 'Lâche-moi\\u202f!'],\n",
              " ['Let me go!', \"Laisse-moi m'en aller !\"],\n",
              " ['Let me go!', \"Laissez-moi m'en aller !\"],\n",
              " ['Let me go!', 'Laissez-moi y aller !'],\n",
              " ['Let me go!', 'Laisse-moi y aller !'],\n",
              " ['Let me go.', 'Laisse-moi partir\\u202f!'],\n",
              " ['Let me go.', 'Laissez-moi partir\\u202f!'],\n",
              " ['Let me go.', \"Laisse-moi m'en aller !\"],\n",
              " ['Let me go.', \"Laissez-moi m'en aller !\"],\n",
              " ['Let me in.', 'Laissez-moi rentrer.'],\n",
              " ['Let me in.', 'Laissez-moi entrer.'],\n",
              " [\"Let's ask.\", 'Demandons.'],\n",
              " [\"Let's see.\", 'Voyons voir !'],\n",
              " ['Lie still.', 'Reste allongé, immobile !'],\n",
              " ['Lie still.', 'Reste allongée, immobile !'],\n",
              " ['Lie still.', 'Restez allongé, immobile !'],\n",
              " ['Lie still.', 'Restez allongée, immobile !'],\n",
              " ['Lie still.', 'Restez allongés, immobiles !'],\n",
              " ['Lie still.', 'Restez allongées, immobiles !'],\n",
              " ['Loosen up.', 'Échauffe-toi !'],\n",
              " ['Loosen up.', 'Échauffez-vous !'],\n",
              " ['Loosen up.', 'Détends-toi !'],\n",
              " ['Loosen up.', 'Laisse-toi aller !'],\n",
              " ['Loosen up.', 'Laissez-vous aller !'],\n",
              " ['Nice shot!', 'Joli coup !'],\n",
              " ['Of course!', 'Pour sûr.'],\n",
              " ['Of course!', 'Mais ouais !'],\n",
              " ['Of course.', 'Bien sûr.'],\n",
              " ['Of course.', 'Pour sûr.'],\n",
              " ['Oh please!', 'Je vous en prie !'],\n",
              " ['Oh please!', \"Je t'en prie !\"],\n",
              " ['Pardon me?', 'Pardon\\u202f?'],\n",
              " ['Pardon me?', 'Je vous demande pardon\\u202f?'],\n",
              " ['Pardon me?', 'Plaît-il\\u202f?'],\n",
              " ['Read this.', 'Lis ceci.'],\n",
              " ['Say hello.', 'Dis bonjour.'],\n",
              " ['See above.', 'Voyez ci-dessus.'],\n",
              " ['Seriously?', 'Vraiment\\u202f?'],\n",
              " ['Seriously?', 'Est-ce sérieux\\u202f?'],\n",
              " ['Seriously?', 'Sérieusement ?'],\n",
              " ['She cried.', 'Elle pleurait.'],\n",
              " ['She cried.', 'Elle pleura.'],\n",
              " ['She tried.', 'Elle a essayé.'],\n",
              " ['She walks.', 'Elle marche.'],\n",
              " [\"She's hot.\", 'Elle est chaude.'],\n",
              " [\"She's hot.\", 'Elle est très attirante.'],\n",
              " ['Sign here.', 'Signe ici.'],\n",
              " ['Sign here.', 'Signez ici.'],\n",
              " ['Slow down.', 'Ralentis !'],\n",
              " ['Slow down.', 'Ralentissez !'],\n",
              " ['Stay back.', 'Reste en arrière !'],\n",
              " ['Stay back.', 'Restez en arrière !'],\n",
              " ['Stay calm.', 'Restez calme.'],\n",
              " ['Stay calm.', 'Reste calme.'],\n",
              " ['Stay calm.', 'Garde ton calme.'],\n",
              " ['Stay calm.', 'Garde ton sang-froid.'],\n",
              " ['Stay calm.', 'Reste tranquille.'],\n",
              " ['Stay down.', 'Reste baissé.'],\n",
              " ['Stay down.', 'Restez baissé.'],\n",
              " ['Stay thin.', 'Reste mince !'],\n",
              " ['Stop that!', 'Arrêtez !'],\n",
              " ['Stop that.', 'Arrêtez ça !'],\n",
              " ['Stop that.', 'Arrête ça !'],\n",
              " ['Take care.', 'Prends soin de toi.'],\n",
              " ['Take care.', 'Prenez soin de vous.'],\n",
              " ['Take mine.', 'Prends le mien.'],\n",
              " ['Take mine.', 'Prends la mienne.'],\n",
              " ['Take mine.', 'Prenez le mien.'],\n",
              " ['Take mine.', 'Prenez la mienne.'],\n",
              " ['Take mine.', 'Prends les miens.'],\n",
              " ['Take mine.', 'Prends les miennes.'],\n",
              " ['Take mine.', 'Prenez les miens.'],\n",
              " ['Take mine.', 'Prenez les miennes.'],\n",
              " ['Take this.', 'Prends ça.'],\n",
              " ['Take this.', 'Prenez ça.'],\n",
              " ['Thank you.', 'Merci !'],\n",
              " [\"That's it.\", \"C'est ça.\"],\n",
              " ['They fell.', 'Ils sont tombés.'],\n",
              " ['They fell.', 'Elles sont tombées.'],\n",
              " ['They left.', 'Ils sont partis.'],\n",
              " ['They left.', 'Elles sont parties.'],\n",
              " ['They lied.', 'Ils ont menti.'],\n",
              " ['They lied.', 'Elles ont menti.'],\n",
              " ['They lost.', 'Ils ont perdu.'],\n",
              " ['They lost.', 'Elles ont perdu.'],\n",
              " ['They swam.', 'Ils nageaient.'],\n",
              " ['They swam.', 'Elles nageaient.'],\n",
              " ['They swam.', 'Ils nagèrent.'],\n",
              " ['They swam.', 'Elles nagèrent.'],\n",
              " ['Tom knits.', 'Tom tricote.'],\n",
              " ['Tom knows.', 'Tom sait.'],\n",
              " ['Tom spoke.', 'Tom a parlé.'],\n",
              " [\"Tom's fat.\", 'Tom est gros.'],\n",
              " ['Try again.', 'Essaie encore.'],\n",
              " ['Try again.', 'Essayez de nouveau.'],\n",
              " ['Try again.', 'Essaie de nouveau.'],\n",
              " ['Try it on.', 'Essaie-le\\u2009!'],\n",
              " ['Turn left.', 'Tourne à gauche.'],\n",
              " ['Wait here.', 'Attends ici.'],\n",
              " ['Wait here.', 'Attends là.'],\n",
              " ['Wait here.', 'Attendez ici.'],\n",
              " ['Wait here.', 'Attendez là.'],\n",
              " ['Watch out!', 'Attention !'],\n",
              " ['Watch out!', 'Faites attention\\u202f!'],\n",
              " ['Watch out!', 'Fais attention\\u202f!'],\n",
              " ['We agreed.', \"Nous sommes tombés d'accord.\"],\n",
              " ['We did it!', 'Nous avons réussi\\u202f!'],\n",
              " ['We did it.', 'Nous avons réussi\\u202f!'],\n",
              " ['We did it.', \"Nous l'avons fait.\"],\n",
              " ['We forgot.', 'Nous avons oublié.'],\n",
              " ['We saw it.', \"Nous l'avons vu.\"],\n",
              " ['We saw it.', \"Nous l'avons vue.\"],\n",
              " ['We talked.', 'Nous discutâmes.'],\n",
              " ['We talked.', 'Nous avons discuté.'],\n",
              " ['We talked.', 'Nous nous sommes entretenus.'],\n",
              " ['We talked.', 'Nous nous sommes entretenues.'],\n",
              " ['We talked.', 'Nous nous entretînmes.'],\n",
              " ['We waited.', 'Nous attendîmes.'],\n",
              " ['We waited.', 'Nous avons attendu.'],\n",
              " [\"We'll try.\", 'Nous essayerons.'],\n",
              " [\"We'll try.\", 'Nous tenterons.'],\n",
              " [\"We'll win.\", \"Nous l'emporterons.\"],\n",
              " [\"We'll win.\", 'Nous gagnerons.'],\n",
              " [\"We're hot.\", 'Nous avons chaud.'],\n",
              " [\"We're sad.\", 'Nous sommes tristes.'],\n",
              " [\"We're shy.\", 'Nous sommes timides.'],\n",
              " ['Well done!', 'Bien vu\\u202f!'],\n",
              " ['Well done!', 'Bien cuit\\u202f!'],\n",
              " ['Well done!', 'À la bonne heure\\u202f!'],\n",
              " ['Well done!', 'Pas mal !'],\n",
              " ['What else?', 'Quoi d’autre\\u202f?'],\n",
              " ['What else?', \"Quoi d'autre ?\"],\n",
              " [\"What's up?\", 'Quoi de beau\\u202f?'],\n",
              " ['Who cares?', \"Qui s'en préoccupe\\u202f?\"],\n",
              " ['Who cares?', \"Qui s'en soucie\\u202f?\"],\n",
              " ['Who cares?', 'À qui ceci importe-t-il\\u202f?'],\n",
              " ['Who is he?', 'Qui est-ce\\u202f?'],\n",
              " ['Who is he?', 'Qui est-il\\u202f?'],\n",
              " ['Who is it?', 'Qui est-ce\\u202f?'],\n",
              " ['Who is it?', 'Qui est-il\\u202f?'],\n",
              " ['Who knows?', 'Qui sait\\u202f?'],\n",
              " ['Who spoke?', 'Qui a parlé ?'],\n",
              " [\"Who'll go?\", 'Qui ira ?'],\n",
              " [\"Who's ill?\", 'Qui est malade ?'],\n",
              " ['Wonderful!', 'Magnifique\\u202f!'],\n",
              " ['Write Tom.', 'Écrivez à Tom.'],\n",
              " ['You drive.', 'Tu conduis.'],\n",
              " ['You drive.', 'Toi, conduis !'],\n",
              " ['You drive.', 'Vous conduisez.'],\n",
              " ['You idiot!', \"Espèce d'imbécile\\u202f!\"],\n",
              " ['You idiot!', \"Espèce d'idiot\\u202f!\"],\n",
              " ['You start.', 'Tu commences.'],\n",
              " ['You start.', 'Vous commencez.'],\n",
              " ['You tried.', 'Tu as essayé.'],\n",
              " ['You tried.', 'Vous avez essayé.'],\n",
              " ['All aboard!', 'Tout le monde à bord!'],\n",
              " ['Am I clear?', 'Suis-je clair ?'],\n",
              " ['Am I clear?', 'Suis-je claire ?'],\n",
              " ['Am I dying?', 'Suis-je en train de mourir ?'],\n",
              " ['Am I dying?', 'Suis-je en train de trépasser ?'],\n",
              " ['Am I early?', 'Suis-je en avance ?'],\n",
              " ['Am I fired?', 'Vous me mettez à la porte ?'],\n",
              " ['Am I first?', 'Suis-je le premier ?'],\n",
              " ['Am I first?', 'Suis-je la première ?'],\n",
              " ['Am I hired?', 'Suis-je engagé ?'],\n",
              " ['Am I hired?', 'Suis-je engagée ?'],\n",
              " ['Am I right?', 'Ai-je raison ?'],\n",
              " ['Am I right?', 'Suis-je dans le vrai ?'],\n",
              " ['Am I wrong?', 'Me trompé-je\\u202f?'],\n",
              " ['Am I wrong?', 'Ai-je tort ?'],\n",
              " ['Am I wrong?', 'Est-ce que je me trompe ?'],\n",
              " ['Are you OK?', 'Est-ce que tu vas bien\\u202f?'],\n",
              " ['Are you up?', 'Es-tu levé ?'],\n",
              " ['Are you up?', 'Es-tu levée ?'],\n",
              " ['Are you up?', 'Êtes-vous levé ?'],\n",
              " ['Are you up?', 'Êtes-vous levée ?'],\n",
              " ['Are you up?', 'Êtes-vous levés ?'],\n",
              " ['Are you up?', 'Êtes-vous levées ?'],\n",
              " ['Are you up?', 'Es-tu debout ?'],\n",
              " ['Are you up?', 'Êtes-vous debout ?'],\n",
              " ['Ask anyone.', \"Demandez à n'importe qui.\"],\n",
              " ['Ask anyone.', \"Demande à n'importe qui.\"],\n",
              " ['Ask anyone.', 'Demande à quiconque !'],\n",
              " ['Ask around.', 'Demande alentour !'],\n",
              " ['Ask around.', 'Demandez alentour !'],\n",
              " ['Be careful.', 'Sois prudent !'],\n",
              " ['Be careful.', 'Sois prudente !'],\n",
              " ['Be careful.', 'Soyez prudent !'],\n",
              " ['Be careful.', 'Soyez prudente !'],\n",
              " ['Be careful.', 'Soyez prudents !'],\n",
              " ['Be careful.', 'Soyez prudentes !'],\n",
              " ['Be content.', 'Sois satisfait !'],\n",
              " ['Be content.', 'Sois satisfaite !'],\n",
              " ['Be content.', 'Soyez satisfait !'],\n",
              " ['Be content.', 'Soyez satisfaite !'],\n",
              " ['Be content.', 'Soyez satisfaits !'],\n",
              " ['Be content.', 'Soyez satisfaites !'],\n",
              " ['Be serious.', 'Soyez sérieux !'],\n",
              " ['Be serious.', 'Soyez sérieuse !'],\n",
              " ['Be serious.', 'Soyez sérieuses !'],\n",
              " ['Be serious.', 'Sois sérieux !'],\n",
              " ['Be serious.', 'Sois sérieuse !'],\n",
              " ['Birds sing.', 'Les oiseaux chantent.'],\n",
              " ['Bottoms up!', 'Santé !'],\n",
              " ['Can I come?', 'Puis-je venir ?'],\n",
              " ['Can I help?', 'Puis-je aider\\u202f?'],\n",
              " ['Can I stay?', 'Puis-je rester ?'],\n",
              " ['Check this.', 'Vérifie ça.'],\n",
              " ['Check this.', 'Regarde ça.'],\n",
              " ['Choose one.', 'Choisis-en un.'],\n",
              " ['Choose one.', 'Choisis-en une.'],\n",
              " ['Come along.', 'Joignez-vous à nous.'],\n",
              " ['Come on in!', 'Entre donc\\u202f!'],\n",
              " ['Come on in.', 'Entre.'],\n",
              " ['Come quick!', 'Viens vite\\u202f!'],\n",
              " ['Come quick!', 'Jouis vite\\u202f!'],\n",
              " ['Come to me.', 'Venez à moi.'],\n",
              " ['Come to us.', 'Venez à nous.'],\n",
              " ['Cut it out!', 'Arrête !'],\n",
              " ['Cut it out!', 'Arrêtez !'],\n",
              " ['Cut it out.', 'Assez\\u202f!'],\n",
              " ['Did we win?', 'Avons-nous gagné ?'],\n",
              " ['Do I stink?', 'Est-ce que je pue ?'],\n",
              " ['Do come in!', 'Je vous en prie, entrez\\u202f!'],\n",
              " ['Do men cry?', 'Les hommes pleurent-ils ?'],\n",
              " [\"Don't fret.\", 'Te tracasse pas.'],\n",
              " [\"Don't fret.\", 'Vous tracassez pas.'],\n",
              " [\"Don't fret.\", 'Ne te tracasse pas.'],\n",
              " [\"Don't fret.\", 'Ne vous tracassez pas.'],\n",
              " [\"Don't move!\", 'Ne bouge pas !'],\n",
              " [\"Don't move!\", 'Ne bougez pas !'],\n",
              " [\"Don't move.\", 'Ne bougez pas.'],\n",
              " [\"Don't move.\", 'Ne bouge pas.'],\n",
              " [\"Don't rush.\", 'Ne te précipite pas.'],\n",
              " [\"Don't rush.\", 'Ne vous précipitez pas.'],\n",
              " [\"Don't talk!\", 'Ne parle pas !'],\n",
              " [\"Don't talk!\", 'Ne parlez pas !'],\n",
              " [\"Don't wait.\", \"N'attends pas !\"],\n",
              " [\"Don't wait.\", \"N'attendez pas !\"],\n",
              " ['Duty calls.', \"Le devoir m'appelle.\"],\n",
              " ['Fill it up.', 'Le plein.'],\n",
              " ['Find a job.', 'Trouve un emploi !'],\n",
              " ['Find a job.', 'Trouve un boulot !'],\n",
              " ['Follow him.', 'Suis-le\\u202f!'],\n",
              " ['Follow him.', 'Suivez-le\\u202f!'],\n",
              " ['Forget him.', 'Oublie-le.'],\n",
              " ['Forget him.', 'Oubliez-le.'],\n",
              " ['Forgive me.', 'Pardonnez-moi.'],\n",
              " ['Get a life!', 'Achète-toi une vie !'],\n",
              " ['Get to bed.', 'Va au lit !'],\n",
              " ['Get to bed.', 'Au lit !'],\n",
              " ['Get to bed.', 'Allez au lit !'],\n",
              " ['Give it up.', 'Laisse tomber.'],\n",
              " ['Give it up.', 'Abandonne\\u202f!'],\n",
              " ['Go warm up.', \"Va t'échauffer !\"],\n",
              " ['Go warm up.', 'Allez vous échauffer !'],\n",
              " ['He gave in.', 'Il a cédé.'],\n",
              " ['He gave in.', 'Il céda.'],\n",
              " ['He hung up.', 'Il a raccroché.'],\n",
              " ['He hung up.', 'Il raccrocha.'],\n",
              " ['He is a DJ.', 'Il est DJ.'],\n",
              " ['He is busy.', 'Il a à faire.'],\n",
              " ['He is here!', 'Il est ici\\u202f!'],\n",
              " ['He is kind.', 'Il est gentil.'],\n",
              " ['He is late.', 'Il est en retard.'],\n",
              " ['He is lazy.', 'Il est fainéant.'],\n",
              " ['He is lazy.', 'Il est paresseux.'],\n",
              " ['He is poor.', 'Il est pauvre.'],\n",
              " ['He is sick.', 'Il est malade.'],\n",
              " ['He made it.', 'Il a réussi.'],\n",
              " [\"He's Swiss.\", 'Il est Suisse.'],\n",
              " [\"He's Swiss.\", 'Il est Helvète.'],\n",
              " [\"He's broke.\", 'Il est ruiné.'],\n",
              " [\"He's broke.\", 'Il est fauché.'],\n",
              " [\"He's drunk.\", 'Il est ivre.'],\n",
              " [\"He's drunk.\", 'Il est soûl.'],\n",
              " [\"He's smart.\", 'Il est intelligent.'],\n",
              " ['Here he is!', 'Il est ici\\u202f!'],\n",
              " ['Here it is.', 'Le voilà.'],\n",
              " ['Here it is.', 'Tenez.'],\n",
              " ['Here it is.', 'Le voici.'],\n",
              " ['Here we go.', \"C'est parti !\"],\n",
              " ['Here we go.', 'On est partis !'],\n",
              " ['Hold still.', 'Tiens-toi tranquille !'],\n",
              " ['Hold still.', 'Tenez-vous tranquille !'],\n",
              " ['How lovely!', \"Comme c'est charmant !\"],\n",
              " [\"How's work?\", 'Comment va le travail ?'],\n",
              " ['Hurry home.', \"Dépêche-toi d'aller chez toi !\"],\n",
              " ['Hurry home.', \"Dépêchez-vous d'aller chez vous !\"],\n",
              " ['I am a man.', 'Je suis un homme.'],\n",
              " ['I am human.', 'Je suis humain.'],\n",
              " ['I am ready.', 'Je suis prêt.'],\n",
              " ['I am right.', \"J'ai raison.\"],\n",
              " ['I am sorry.', 'Je suis désolé.'],\n",
              " ['I am sorry.', 'Je suis désolée.'],\n",
              " ['I am tired.', 'Je suis fatigué !'],\n",
              " ['I am tired.', 'Je suis crevé.'],\n",
              " ['I broke it.', \"Je l'ai cassé.\"],\n",
              " ['I broke it.', \"Je l'ai cassée.\"],\n",
              " ['I built it.', \"Je l'ai construit.\"],\n",
              " ['I built it.', \"Je l'ai construite.\"],\n",
              " ['I can come.', 'Je peux venir.'],\n",
              " ['I can cook.', 'Je sais cuisiner.'],\n",
              " ['I can jump.', 'Je peux sauter.'],\n",
              " ['I can read.', 'Je sais lire.'],\n",
              " ['I can read.', 'Je peux lire.'],\n",
              " ['I can sing.', 'Je sais chanter.'],\n",
              " ['I can stay.', 'Je peux rester.'],\n",
              " ['I can swim.', 'Je sais nager.'],\n",
              " ['I can wait.', 'Je peux attendre.'],\n",
              " ['I can walk.', 'Je peux marcher.'],\n",
              " [\"I can't go.\", 'Je ne peux pas y aller.'],\n",
              " [\"I can't go.\", \"Je ne peux pas m'y rendre.\"],\n",
              " [\"I can't go.\", 'Je ne peux pas partir.'],\n",
              " ['I did that.', \"J'ai fait cela.\"],\n",
              " ['I did that.', \"C'est moi qui l'ai fait.\"],\n",
              " ['I disagree.', \"Je ne suis pas d'accord.\"],\n",
              " ['I do worry.', 'Je me fais vraiment du souci.'],\n",
              " ['I doubt it.', \"J'en doute.\"],\n",
              " ['I eat here.', 'Je mange ici.'],\n",
              " ['I envy him.', \"Je l'envie.\"],\n",
              " ['I envy you.', 'Je vous envie.'],\n",
              " ['I envy you.', \"Je t'envie.\"],\n",
              " ['I feel bad.', 'Je me sens mal.'],\n",
              " ['I feel old.', 'Je me sens vieux.'],\n",
              " ['I feel old.', 'Je me sens vieille.'],\n",
              " ['I felt bad.', 'Je me suis senti mal.'],\n",
              " ['I felt ill.', 'Je me suis senti mal.'],\n",
              " ['I felt ill.', 'Je me sentais malade.'],\n",
              " ['I felt ill.', 'Je me sentis malade.'],\n",
              " ['I felt sad.', \"J'ai ressenti de la tristesse.\"],\n",
              " ['I fixed it.', \"Je l'ai réparé.\"],\n",
              " ['I fixed it.', \"Je l'ai réparée.\"],\n",
              " ['I fixed it.', 'Je la réparai.'],\n",
              " ['I fixed it.', 'Je le réparai.'],\n",
              " ['I found it.', \"Je l'ai trouvé.\"],\n",
              " ['I found it.', 'Je le trouvai.'],\n",
              " ['I got busy.', 'Je suis devenu occupé.'],\n",
              " ['I got busy.', 'Je suis devenu occupée.'],\n",
              " ['I got lost.', 'Je me suis perdu.'],\n",
              " ['I got sick.', 'Je suis devenu malade.'],\n",
              " ['I got sick.', 'Je suis devenue malade.'],\n",
              " ...]"
            ]
          },
          "metadata": {
            "tags": []
          },
          "execution_count": 5
        }
      ]
    },
    {
      "cell_type": "markdown",
      "metadata": {
        "id": "oFuJILU7Y5kl",
        "colab_type": "text"
      },
      "source": [
        "**<h3> Getting Rid of Punctuation&Unicode,Reducing to lowercase**\n",
        "\n",
        "In the below line, we are getting rid of the punctuation and unicode characaters(u202f),reducing everything to lowercase and separating the sentences to their respective language types."
      ]
    },
    {
      "cell_type": "code",
      "metadata": {
        "id": "wXX2OWb644ME",
        "colab_type": "code",
        "colab": {}
      },
      "source": [
        "eng=[re.sub(r'\\s',' ',i[0].lower().translate(str.maketrans('', '', string.punctuation))) for i in eng_fra]\n",
        "fra=[re.sub(r'\\s',' ',i[1].lower().translate(str.maketrans('', '', string.punctuation))) for i in eng_fra]\n",
        "eng=array(eng)\n",
        "fra=array(fra)"
      ],
      "execution_count": 0,
      "outputs": []
    },
    {
      "cell_type": "markdown",
      "metadata": {
        "id": "o9siDyxkZY0X",
        "colab_type": "text"
      },
      "source": [
        "In the next line of code we are calculating the maximum length of a sentence. This will be used as a parameter later."
      ]
    },
    {
      "cell_type": "code",
      "metadata": {
        "id": "eMwuO4rq8lZ8",
        "colab_type": "code",
        "outputId": "036f1952-553f-4d34-dcf1-2d2f004ce406",
        "colab": {
          "base_uri": "https://localhost:8080/",
          "height": 51
        }
      },
      "source": [
        "eng_l=[len(i) for i in eng]\n",
        "fra_l=[len(i) for i in fra]\n",
        "eng_max_l=np.asarray(eng_l).max()\n",
        "fra_max_l=np.asarray(fra_l).max()\n",
        "print(\"eng max\",eng_max_l,'\\n',\"fra max\",fra_max_l)"
      ],
      "execution_count": 0,
      "outputs": [
        {
          "output_type": "stream",
          "text": [
            "eng max 19 \n",
            " fra max 54\n"
          ],
          "name": "stdout"
        }
      ]
    },
    {
      "cell_type": "markdown",
      "metadata": {
        "id": "0nxMjcUYZnsI",
        "colab_type": "text"
      },
      "source": [
        "**<h3>Tokenization**\n",
        "\n",
        "Next,we'll be tokenizing the sentences. Tokenization reads the given sentences and assigns each distinct word a number.\n",
        "For eg,if the sentence is:\n",
        "\n",
        "Hello ! My name is Tarushi \n",
        "\n",
        "Then here each word will have a number assigned to it(once it undergoes cleaning that is):\n",
        "\n",
        "hello:1\n",
        "my:2\n",
        "name:3\n",
        "is:4\n",
        "Tarushi:5\n"
      ]
    },
    {
      "cell_type": "code",
      "metadata": {
        "id": "HhHiwQzqFQE1",
        "colab_type": "code",
        "colab": {}
      },
      "source": [
        "def tokenization(sentences):\n",
        "      tokenizer = Tokenizer()\n",
        "      tokenizer.fit_on_texts(sentences)\n",
        "      return tokenizer"
      ],
      "execution_count": 0,
      "outputs": []
    },
    {
      "cell_type": "code",
      "metadata": {
        "id": "un2mhxJdF38G",
        "colab_type": "code",
        "outputId": "0f7ad4d4-5fcb-42f0-96cb-f1e0ab63b19b",
        "colab": {
          "base_uri": "https://localhost:8080/",
          "height": 51
        }
      },
      "source": [
        "eng_tokenized=tokenization(eng)\n",
        "eng_vocab=len(eng_tokenized.word_index)+1\n",
        "fra_tokenized=tokenization(fra)\n",
        "fra_vocab=len(fra_tokenized.word_index)+1\n",
        "print(\"English vocabulary size:\",eng_vocab,'\\n',\"French vocabulary size:\",fra_vocab)"
      ],
      "execution_count": 0,
      "outputs": [
        {
          "output_type": "stream",
          "text": [
            "English vocabulary size: 4087 \n",
            " French vocabulary size: 8446\n"
          ],
          "name": "stdout"
        }
      ]
    },
    {
      "cell_type": "markdown",
      "metadata": {
        "id": "Mq_OHEDoar9b",
        "colab_type": "text"
      },
      "source": [
        "Vocabulary size corresponds to the total number of distinct words present in the dataset."
      ]
    },
    {
      "cell_type": "code",
      "metadata": {
        "id": "Iok8Ta3_HFE0",
        "colab_type": "code",
        "outputId": "c6b66077-489c-4feb-eb9d-c58cceb4c70a",
        "colab": {
          "base_uri": "https://localhost:8080/",
          "height": 34
        }
      },
      "source": [
        "len(eng)==len(fra)"
      ],
      "execution_count": 0,
      "outputs": [
        {
          "output_type": "execute_result",
          "data": {
            "text/plain": [
              "True"
            ]
          },
          "metadata": {
            "tags": []
          },
          "execution_count": 10
        }
      ]
    },
    {
      "cell_type": "markdown",
      "metadata": {
        "id": "2agoCBdmbvwc",
        "colab_type": "text"
      },
      "source": [
        "We need the main dataset of both english and french sentences for training and test datasets. The next few lines of code are involved in cleaning the dataset and making it fit for consumption."
      ]
    },
    {
      "cell_type": "code",
      "metadata": {
        "id": "ap-3DGXfGUyx",
        "colab_type": "code",
        "colab": {}
      },
      "source": [
        "#eng_fra=[re.sub(r'\\s',' ',i.lower().translate(str.maketrans('', '', string.punctuation))) for i in eng_fra]\n",
        "engg_fra=[eng[i]+' \\t '+fra[i] for i in range(len(eng))]\n",
        "engg_fra=[i.split(' \\t') for i in engg_fra]"
      ],
      "execution_count": 0,
      "outputs": []
    },
    {
      "cell_type": "code",
      "metadata": {
        "id": "EQ11VyW9HoFm",
        "colab_type": "code",
        "outputId": "8552ac22-6269-45c2-ec76-ec21c8cb0810",
        "colab": {
          "base_uri": "https://localhost:8080/",
          "height": 187
        }
      },
      "source": [
        "eng_fra=array(engg_fra)\n",
        "eng_fra[:10]"
      ],
      "execution_count": 0,
      "outputs": [
        {
          "output_type": "execute_result",
          "data": {
            "text/plain": [
              "array([['go', ' va '],\n",
              "       ['run', ' cours '],\n",
              "       ['run', ' courez '],\n",
              "       ['wow', ' ça alors '],\n",
              "       ['fire', ' au feu '],\n",
              "       ['help', ' à laide '],\n",
              "       ['jump', ' saute'],\n",
              "       ['stop', ' ça suffit '],\n",
              "       ['stop', ' stop '],\n",
              "       ['stop', ' arrêtetoi ']], dtype='<U55')"
            ]
          },
          "metadata": {
            "tags": []
          },
          "execution_count": 12
        }
      ]
    },
    {
      "cell_type": "markdown",
      "metadata": {
        "id": "3NygEzdpcKmg",
        "colab_type": "text"
      },
      "source": [
        "**<h3> Encoding Sequences**\n",
        "\n",
        "Enocde Sequences function will taken the tokenized variables and convert fit them into the sentences to get our required sequences of variables.\n",
        "That implies that it basically converts this:\n",
        "\n",
        "hello how are you \n",
        "\n",
        "to this:\n",
        "\n",
        "1 2 3 4 "
      ]
    },
    {
      "cell_type": "code",
      "metadata": {
        "id": "jS229lRvH2eb",
        "colab_type": "code",
        "colab": {}
      },
      "source": [
        "def encode_sequences(tokenizer, length, lines):\n",
        "         seq = tokenizer.texts_to_sequences(lines)\n",
        "         seq = pad_sequences(seq, maxlen=length, padding='post')\n",
        "         return seq"
      ],
      "execution_count": 0,
      "outputs": []
    },
    {
      "cell_type": "markdown",
      "metadata": {
        "id": "1ewC6shDdEyU",
        "colab_type": "text"
      },
      "source": [
        "**<h2> Splitting Dataset**\n",
        "\n",
        "The given dataset will be split to train and test sets."
      ]
    },
    {
      "cell_type": "code",
      "metadata": {
        "id": "SlKFQSLZJIfG",
        "colab_type": "code",
        "colab": {}
      },
      "source": [
        "from sklearn.model_selection import train_test_split\n",
        "\n",
        "# split data into train and test set\n",
        "train, test = train_test_split(eng_fra, test_size=0.2, random_state = 12)\n"
      ],
      "execution_count": 0,
      "outputs": []
    },
    {
      "cell_type": "markdown",
      "metadata": {
        "id": "a7PQePVTdRyc",
        "colab_type": "text"
      },
      "source": [
        "**<h3> Encoding Sequences for X_train,X_test,Y_train,Y_Test**\n",
        "\n",
        "Calling the encode_sequences function in order to convert the given sentences into the series of numbers."
      ]
    },
    {
      "cell_type": "code",
      "metadata": {
        "id": "DtL35RJOJR8j",
        "colab_type": "code",
        "colab": {}
      },
      "source": [
        "X_train=encode_sequences(fra_tokenized,eng_max_l,train[:,1])\n",
        "Y_train=encode_sequences(eng_tokenized,eng_max_l,train[:,0])\n",
        "\n",
        "X_test=encode_sequences(fra_tokenized,eng_max_l,test[:,1])\n",
        "Y_test=encode_sequences(eng_tokenized,eng_max_l,test[:,0])"
      ],
      "execution_count": 0,
      "outputs": []
    },
    {
      "cell_type": "code",
      "metadata": {
        "id": "mhYKLK3HQFMa",
        "colab_type": "code",
        "outputId": "0722f686-5ca1-401f-a86a-4ca664c325c5",
        "colab": {
          "base_uri": "https://localhost:8080/",
          "height": 34
        }
      },
      "source": [
        "print(X_train.shape==Y_train.shape)"
      ],
      "execution_count": 0,
      "outputs": [
        {
          "output_type": "stream",
          "text": [
            "True\n"
          ],
          "name": "stdout"
        }
      ]
    },
    {
      "cell_type": "markdown",
      "metadata": {
        "id": "zL6-MfGrdpzy",
        "colab_type": "text"
      },
      "source": [
        "**<H2>Sequence to Sequence Neural Network**\n",
        "\n",
        "Introduced for the first time in 2014 by Google, a sequence to sequence model aims to map a fixed-length input with a fixed-length output where the length of the input and output may differ.\n",
        "\n",
        "In our case , in english the sentence how are you translates to comment cava in french, from which we can understand that the sentence inputted was of 3 words whereas the output received was of 2.That's why seqtoseq model is being used.\n",
        "\n",
        "\n"
      ]
    },
    {
      "cell_type": "code",
      "metadata": {
        "id": "SfE1ap9VMJAc",
        "colab_type": "code",
        "outputId": "b811414b-8d8e-40fc-9563-739f355239dd",
        "colab": {
          "base_uri": "https://localhost:8080/",
          "height": 323
        }
      },
      "source": [
        " model = Sequential()\n",
        " model.add(Embedding(fra_vocab, 32, input_length=eng_max_l, mask_zero=True))\n",
        " model.add(LSTM(32))\n",
        " model.add(RepeatVector(eng_max_l))\n",
        " model.add(LSTM(32, return_sequences=True))\n",
        " model.add(Dense(eng_vocab, activation='softmax'))\n",
        " model.summary()"
      ],
      "execution_count": 0,
      "outputs": [
        {
          "output_type": "stream",
          "text": [
            "Model: \"sequential_2\"\n",
            "_________________________________________________________________\n",
            "Layer (type)                 Output Shape              Param #   \n",
            "=================================================================\n",
            "embedding_2 (Embedding)      (None, 19, 32)            270272    \n",
            "_________________________________________________________________\n",
            "lstm_3 (LSTM)                (None, 32)                8320      \n",
            "_________________________________________________________________\n",
            "repeat_vector_2 (RepeatVecto (None, 19, 32)            0         \n",
            "_________________________________________________________________\n",
            "lstm_4 (LSTM)                (None, 19, 32)            8320      \n",
            "_________________________________________________________________\n",
            "dense_2 (Dense)              (None, 19, 4087)          134871    \n",
            "=================================================================\n",
            "Total params: 421,783\n",
            "Trainable params: 421,783\n",
            "Non-trainable params: 0\n",
            "_________________________________________________________________\n"
          ],
          "name": "stdout"
        }
      ]
    },
    {
      "cell_type": "code",
      "metadata": {
        "id": "cdaKRZ11NTP4",
        "colab_type": "code",
        "colab": {}
      },
      "source": [
        "rms = optimizers.RMSprop(lr=0.001)\n",
        "model.compile(optimizer=rms, loss='sparse_categorical_crossentropy',metrics=['accuracy'])"
      ],
      "execution_count": 0,
      "outputs": []
    },
    {
      "cell_type": "code",
      "metadata": {
        "id": "gSvAdfdAN2l5",
        "colab_type": "code",
        "outputId": "73f1d74c-fe2a-4b8d-bc5c-eec18f3bd0a1",
        "colab": {
          "base_uri": "https://localhost:8080/",
          "height": 51
        }
      },
      "source": [
        "print(Y_train.shape[0],'\\n',X_train.shape)"
      ],
      "execution_count": 0,
      "outputs": [
        {
          "output_type": "stream",
          "text": [
            "20000 \n",
            " (20000, 19)\n"
          ],
          "name": "stdout"
        }
      ]
    },
    {
      "cell_type": "code",
      "metadata": {
        "id": "4PQdXel-NyAD",
        "colab_type": "code",
        "outputId": "f3e45ef8-80d5-4c7d-ffd0-e163429036ec",
        "colab": {
          "base_uri": "https://localhost:8080/",
          "height": 768
        }
      },
      "source": [
        "filename = 'model.h1'\n",
        "checkpoint = ModelCheckpoint(filename, monitor='val_loss', verbose=1, save_best_only=True, mode='min')\n",
        "history = model.fit(X_train, Y_train.reshape(Y_train.shape[0], Y_train.shape[1], 1),callbacks=[checkpoint],\n",
        "                    epochs=10, batch_size=64, validation_split = 0.2, verbose=1)"
      ],
      "execution_count": 0,
      "outputs": [
        {
          "output_type": "stream",
          "text": [
            "/usr/local/lib/python3.6/dist-packages/tensorflow/python/framework/indexed_slices.py:434: UserWarning: Converting sparse IndexedSlices to a dense Tensor of unknown shape. This may consume a large amount of memory.\n",
            "  \"Converting sparse IndexedSlices to a dense Tensor of unknown shape. \"\n"
          ],
          "name": "stderr"
        },
        {
          "output_type": "stream",
          "text": [
            "Train on 16000 samples, validate on 4000 samples\n",
            "Epoch 1/10\n",
            "16000/16000 [==============================] - 22s 1ms/step - loss: 2.6615 - accuracy: 0.8157 - val_loss: 1.2622 - val_accuracy: 0.8186\n",
            "\n",
            "Epoch 00001: val_loss improved from inf to 1.26223, saving model to model.h1\n",
            "Epoch 2/10\n",
            "16000/16000 [==============================] - 22s 1ms/step - loss: 1.1821 - accuracy: 0.8259 - val_loss: 1.1424 - val_accuracy: 0.8308\n",
            "\n",
            "Epoch 00002: val_loss improved from 1.26223 to 1.14244, saving model to model.h1\n",
            "Epoch 3/10\n",
            "16000/16000 [==============================] - 22s 1ms/step - loss: 1.1097 - accuracy: 0.8316 - val_loss: 1.1030 - val_accuracy: 0.8328\n",
            "\n",
            "Epoch 00003: val_loss improved from 1.14244 to 1.10295, saving model to model.h1\n",
            "Epoch 4/10\n",
            "16000/16000 [==============================] - 22s 1ms/step - loss: 1.0765 - accuracy: 0.8331 - val_loss: 1.0823 - val_accuracy: 0.8332\n",
            "\n",
            "Epoch 00004: val_loss improved from 1.10295 to 1.08232, saving model to model.h1\n",
            "Epoch 5/10\n",
            "16000/16000 [==============================] - 22s 1ms/step - loss: 1.0524 - accuracy: 0.8338 - val_loss: 1.0637 - val_accuracy: 0.8343\n",
            "\n",
            "Epoch 00005: val_loss improved from 1.08232 to 1.06374, saving model to model.h1\n",
            "Epoch 6/10\n",
            "16000/16000 [==============================] - 22s 1ms/step - loss: 1.0261 - accuracy: 0.8363 - val_loss: 1.0385 - val_accuracy: 0.8370\n",
            "\n",
            "Epoch 00006: val_loss improved from 1.06374 to 1.03850, saving model to model.h1\n",
            "Epoch 7/10\n",
            "16000/16000 [==============================] - 21s 1ms/step - loss: 1.0008 - accuracy: 0.8385 - val_loss: 1.0216 - val_accuracy: 0.8395\n",
            "\n",
            "Epoch 00007: val_loss improved from 1.03850 to 1.02158, saving model to model.h1\n",
            "Epoch 8/10\n",
            "16000/16000 [==============================] - 21s 1ms/step - loss: 0.9804 - accuracy: 0.8417 - val_loss: 1.0082 - val_accuracy: 0.8417\n",
            "\n",
            "Epoch 00008: val_loss improved from 1.02158 to 1.00824, saving model to model.h1\n",
            "Epoch 9/10\n",
            "16000/16000 [==============================] - 22s 1ms/step - loss: 0.9620 - accuracy: 0.8443 - val_loss: 0.9960 - val_accuracy: 0.8444\n",
            "\n",
            "Epoch 00009: val_loss improved from 1.00824 to 0.99603, saving model to model.h1\n",
            "Epoch 10/10\n",
            "16000/16000 [==============================] - 21s 1ms/step - loss: 0.9464 - accuracy: 0.8464 - val_loss: 0.9838 - val_accuracy: 0.8455\n",
            "\n",
            "Epoch 00010: val_loss improved from 0.99603 to 0.98383, saving model to model.h1\n"
          ],
          "name": "stdout"
        }
      ]
    },
    {
      "cell_type": "markdown",
      "metadata": {
        "id": "gwqdb20qfYJv",
        "colab_type": "text"
      },
      "source": [
        "**<H3>Learning Curve**\n",
        "\n",
        "Through this we will check for overfitting or underfitting of the model."
      ]
    },
    {
      "cell_type": "code",
      "metadata": {
        "id": "QcDklcahkfnn",
        "colab_type": "code",
        "outputId": "e143a6db-7117-4356-c59b-f58f9520e8b5",
        "colab": {
          "base_uri": "https://localhost:8080/",
          "height": 265
        }
      },
      "source": [
        "plt.plot(history.history['loss'])\n",
        "plt.plot(history.history['val_loss'])\n",
        "plt.legend(['train','validation'])\n",
        "plt.show()"
      ],
      "execution_count": 0,
      "outputs": [
        {
          "output_type": "display_data",
          "data": {
            "image/png": "[encoded data removed]",
            "text/plain": [
              "<Figure size 432x288 with 1 Axes>"
            ]
          },
          "metadata": {
            "tags": [],
            "needs_background": "light"
          }
        }
      ]
    },
    {
      "cell_type": "markdown",
      "metadata": {
        "id": "JMgNam9IfoD9",
        "colab_type": "text"
      },
      "source": [
        "The model seems to have got a good fit on the dataset. Ready for predictions."
      ]
    },
    {
      "cell_type": "code",
      "metadata": {
        "id": "rk3CaDHZm1VA",
        "colab_type": "code",
        "colab": {}
      },
      "source": [
        "preds = model.predict_classes(X_test.reshape((X_test.shape[0],X_test.shape[1])))\n",
        "#reduce prediction size"
      ],
      "execution_count": 0,
      "outputs": []
    },
    {
      "cell_type": "markdown",
      "metadata": {
        "id": "DKkX8JuQf1PQ",
        "colab_type": "text"
      },
      "source": [
        "**<h2> Detokenizing predicted sequences**\n",
        "\n",
        "In the next few lines of code we will be detokenizing the sequences to get our predicted/translated sentences."
      ]
    },
    {
      "cell_type": "code",
      "metadata": {
        "id": "yBW1iyFQEK3O",
        "colab_type": "code",
        "colab": {}
      },
      "source": [
        "def get_word(n, tokenizer):\n",
        "      for word, index in tokenizer.word_index.items():\n",
        "          if index == n:\n",
        "              return word\n",
        "      return None"
      ],
      "execution_count": 0,
      "outputs": []
    },
    {
      "cell_type": "code",
      "metadata": {
        "id": "9QEXEymsEMJE",
        "colab_type": "code",
        "colab": {}
      },
      "source": [
        "preds_text = []\n",
        "for i in preds:\n",
        "       temp = []\n",
        "       for j in range(len(i)):\n",
        "            t = get_word(i[j], eng_tokenized)\n",
        "            if j > 0:\n",
        "                if (t == get_word(i[j-1], eng_tokenized)) or (t == None):\n",
        "                     temp.append('')\n",
        "                else:\n",
        "                     temp.append(t)\n",
        "            else:\n",
        "                   if(t == None):\n",
        "                          temp.append('')\n",
        "                   else:\n",
        "                          temp.append(t) \n",
        "\n",
        "       preds_text.append(' '.join(temp))"
      ],
      "execution_count": 0,
      "outputs": []
    },
    {
      "cell_type": "code",
      "metadata": {
        "id": "vyN-c68oE3qP",
        "colab_type": "code",
        "outputId": "b3b12250-5706-4518-82ec-bebcfcfa1ac4",
        "colab": {
          "base_uri": "https://localhost:8080/",
          "height": 669
        }
      },
      "source": [
        "pred_df = pd.DataFrame({'actual' : test[:,0], 'predicted' : preds_text})\n",
        "pred_df.sample(20)"
      ],
      "execution_count": 0,
      "outputs": [
        {
          "output_type": "execute_result",
          "data": {
            "text/html": [
              "<div>\n",
              "<style scoped>\n",
              "    .dataframe tbody tr th:only-of-type {\n",
              "        vertical-align: middle;\n",
              "    }\n",
              "\n",
              "    .dataframe tbody tr th {\n",
              "        vertical-align: top;\n",
              "    }\n",
              "\n",
              "    .dataframe thead th {\n",
              "        text-align: right;\n",
              "    }\n",
              "</style>\n",
              "<table border=\"1\" class=\"dataframe\">\n",
              "  <thead>\n",
              "    <tr style=\"text-align: right;\">\n",
              "      <th></th>\n",
              "      <th>actual</th>\n",
              "      <th>predicted</th>\n",
              "    </tr>\n",
              "  </thead>\n",
              "  <tbody>\n",
              "    <tr>\n",
              "      <th>682</th>\n",
              "      <td>wait just a moment</td>\n",
              "      <td>he is</td>\n",
              "    </tr>\n",
              "    <tr>\n",
              "      <th>1070</th>\n",
              "      <td>she likes him</td>\n",
              "      <td>he is a</td>\n",
              "    </tr>\n",
              "    <tr>\n",
              "      <th>3476</th>\n",
              "      <td>do you know us</td>\n",
              "      <td>you</td>\n",
              "    </tr>\n",
              "    <tr>\n",
              "      <th>4236</th>\n",
              "      <td>they were murdered</td>\n",
              "      <td>youre not</td>\n",
              "    </tr>\n",
              "    <tr>\n",
              "      <th>1780</th>\n",
              "      <td>are you people lost</td>\n",
              "      <td>you</td>\n",
              "    </tr>\n",
              "    <tr>\n",
              "      <th>4896</th>\n",
              "      <td>im a little tired</td>\n",
              "      <td>i not</td>\n",
              "    </tr>\n",
              "    <tr>\n",
              "      <th>2837</th>\n",
              "      <td>be fair</td>\n",
              "      <td>youre</td>\n",
              "    </tr>\n",
              "    <tr>\n",
              "      <th>4631</th>\n",
              "      <td>i didnt want that</td>\n",
              "      <td>i not a</td>\n",
              "    </tr>\n",
              "    <tr>\n",
              "      <th>1239</th>\n",
              "      <td>hes out of town</td>\n",
              "      <td>he is a</td>\n",
              "    </tr>\n",
              "    <tr>\n",
              "      <th>1106</th>\n",
              "      <td>talk to my boss</td>\n",
              "      <td>is  a</td>\n",
              "    </tr>\n",
              "    <tr>\n",
              "      <th>2521</th>\n",
              "      <td>heres the address</td>\n",
              "      <td>is  a</td>\n",
              "    </tr>\n",
              "    <tr>\n",
              "      <th>2263</th>\n",
              "      <td>its something new</td>\n",
              "      <td>its is</td>\n",
              "    </tr>\n",
              "    <tr>\n",
              "      <th>2231</th>\n",
              "      <td>dry your eyes</td>\n",
              "      <td>he is a</td>\n",
              "    </tr>\n",
              "    <tr>\n",
              "      <th>2272</th>\n",
              "      <td>stop me if you can</td>\n",
              "      <td>do you a</td>\n",
              "    </tr>\n",
              "    <tr>\n",
              "      <th>1344</th>\n",
              "      <td>everybodys dead</td>\n",
              "      <td>its is</td>\n",
              "    </tr>\n",
              "    <tr>\n",
              "      <th>4058</th>\n",
              "      <td>hes tall and slim</td>\n",
              "      <td>he is</td>\n",
              "    </tr>\n",
              "    <tr>\n",
              "      <th>1235</th>\n",
              "      <td>this is absurd</td>\n",
              "      <td>youre is</td>\n",
              "    </tr>\n",
              "    <tr>\n",
              "      <th>4950</th>\n",
              "      <td>were you excited</td>\n",
              "      <td>you</td>\n",
              "    </tr>\n",
              "    <tr>\n",
              "      <th>138</th>\n",
              "      <td>i know it myself</td>\n",
              "      <td>i  you</td>\n",
              "    </tr>\n",
              "    <tr>\n",
              "      <th>163</th>\n",
              "      <td>its not safe</td>\n",
              "      <td>he is</td>\n",
              "    </tr>\n",
              "  </tbody>\n",
              "</table>\n",
              "</div>"
            ],
            "text/plain": [
              "                   actual                   predicted\n",
              "682    wait just a moment      he is                 \n",
              "1070        she likes him     he is a                \n",
              "3476       do you know us       you                  \n",
              "4236   they were murdered  youre not                 \n",
              "1780  are you people lost       you                  \n",
              "4896    im a little tired      i not                 \n",
              "2837              be fair     youre                  \n",
              "4631    i didnt want that     i not a                \n",
              "1239      hes out of town     he is a                \n",
              "1106      talk to my boss       is  a                \n",
              "2521    heres the address       is  a                \n",
              "2263    its something new     its is                 \n",
              "2231        dry your eyes     he is a                \n",
              "2272   stop me if you can    do you a                \n",
              "1344      everybodys dead     its is                 \n",
              "4058    hes tall and slim      he is                 \n",
              "1235       this is absurd   youre is                 \n",
              "4950     were you excited       you                  \n",
              "138      i know it myself      i  you                \n",
              "163          its not safe      he is                 "
            ]
          },
          "metadata": {
            "tags": []
          },
          "execution_count": 50
        }
      ]
    },
    {
      "cell_type": "markdown",
      "metadata": {
        "id": "XKN_F42ZgL_c",
        "colab_type": "text"
      },
      "source": [
        "**<h2> Summary**\n",
        "\n",
        "The English-French translator was made using the SeqtoSeq Model.\n",
        "The accuracy achieved with 10 epochs was 84.64% on training set and 84.55% on dev set, which indicates low variance and low bias.\n",
        "This model can now be successfully used for conversion of english to french sentences.\n"
      ]
    }
  ]
}